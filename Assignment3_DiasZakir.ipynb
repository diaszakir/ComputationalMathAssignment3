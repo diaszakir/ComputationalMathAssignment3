{
  "nbformat": 4,
  "nbformat_minor": 0,
  "metadata": {
    "colab": {
      "provenance": [],
      "authorship_tag": "ABX9TyPXoom4MczvZpXVMvUCRv/B",
      "include_colab_link": true
    },
    "kernelspec": {
      "name": "python3",
      "display_name": "Python 3"
    },
    "language_info": {
      "name": "python"
    }
  },
  "cells": [
    {
      "cell_type": "markdown",
      "metadata": {
        "id": "view-in-github",
        "colab_type": "text"
      },
      "source": [
        "<a href=\"https://colab.research.google.com/github/diaszakir/ComputationalMathAssignment3/blob/main/Assignment3_DiasZakir.ipynb\" target=\"_parent\"><img src=\"https://colab.research.google.com/assets/colab-badge.svg\" alt=\"Open In Colab\"/></a>"
      ]
    },
    {
      "cell_type": "markdown",
      "source": [
        "Task 1: Iterative method for matrix inversion.\n",
        "Problem:\n",
        "1. Implement an iterative method to compute the inverse of matrix A\n",
        "−1\n",
        ". Use an initial guess B=1/tr(A) ⋅ I,\n",
        "where tr(A) is the trace of the matrix. Set the accuracy to 10\n",
        "−6\n",
        ".\n",
        "2. Matrix:\n",
        "\n",
        "Required:\n",
        "1. Print the resulting inverse matrix.\n",
        "2. Compare the result with the built-in function numpy.linalg.inv.\n"
      ],
      "metadata": {
        "id": "EchXOrRujg3C"
      }
    },
    {
      "cell_type": "code",
      "execution_count": null,
      "metadata": {
        "id": "ayXJNMikjcjP",
        "colab": {
          "base_uri": "https://localhost:8080/"
        },
        "outputId": "4af26203-57a7-4151-a7e2-ccfec5ed346f"
      },
      "outputs": [
        {
          "output_type": "stream",
          "name": "stdout",
          "text": [
            "Converged after 9 iterations.\n",
            "Inverse matrix (iteratively):\n",
            "[[ 2.30769231e-01 -7.69230769e-02  1.68777867e-18]\n",
            " [-7.69230769e-02  2.37762238e-01 -9.09090909e-02]\n",
            " [ 5.57184175e-21 -9.09090909e-02  1.81818182e-01]]\n",
            "\n",
            "Inverse matrix (numpy.linalg.inv):\n",
            "[[ 0.23076923 -0.07692308  0.        ]\n",
            " [-0.07692308  0.23776224 -0.09090909]\n",
            " [ 0.         -0.09090909  0.18181818]]\n"
          ]
        }
      ],
      "source": [
        "import numpy as np\n",
        "\n",
        "def iterative_inverse(A, B, tol, max_iter):\n",
        "    \"\"\"Iterative method for finding the inverse matrix.\"\"\"\n",
        "    n = A.shape[0]\n",
        "    I = np.eye(n)  # Unit matrix\n",
        "    for _ in range(max_iter):\n",
        "        E = np.dot(A, B) - I  # Calculating the error\n",
        "        B_new = B - np.dot(B, E)  # Proximity update\n",
        "        # Checking if we have achieved accuracy\n",
        "        if np.linalg.norm(E, ord='fro') < tol:\n",
        "            print(f\"Converged after {_ + 1} iterations.\")\n",
        "            return B_new\n",
        "        B = B_new\n",
        "    return B_new\n",
        "\n",
        "# Given matrix\n",
        "A = np.array([[5, 2, 1], [2, 6, 3], [1, 3, 7]], dtype=float)\n",
        "# Initial approximation\n",
        "B = np.linalg.inv(A) + 0.1 * np.random.randn(3, 3)  # Noisy initial approximation\n",
        "\n",
        "# Iterative process\n",
        "A_inv = iterative_inverse(A, B, tol=1e-6, max_iter=100)\n",
        "print(\"Inverse matrix (iteratively):\")\n",
        "print(A_inv)\n",
        "\n",
        "A_inv_func = np.linalg.inv(A)\n",
        "print(\"\\nInverse matrix (numpy.linalg.inv):\")\n",
        "print(A_inv_func)"
      ]
    },
    {
      "cell_type": "markdown",
      "source": [
        "Task 2: LU factorization and solution of a system of linear equations.\n",
        "Problem:\n",
        "1. Perform LU factorization of the matrix:\n",
        "2. Using the result of the expansion, solve the system Ax=b, where:\n",
        "\n",
        "Required:\n",
        "1. Print matrices L and U.\n",
        "2. Solve the system and print the x values.\n",
        "3. Compare the result with the solution via numpy.linalg.solve."
      ],
      "metadata": {
        "id": "231JaV5vWb6U"
      }
    },
    {
      "cell_type": "code",
      "source": [
        "def lu_factorization(A):\n",
        "    \"\"\"LU factorization of a matrix.\"\"\"\n",
        "    n = A.shape[0]\n",
        "    L = np.eye(n)  # Lower triangular matrix\n",
        "    U = A.copy()  # Upper triangular matrix\n",
        "\n",
        "    for i in range(n):\n",
        "        for j in range(i+1, n):\n",
        "            factor = U[j, i] / U[i, i]\n",
        "            L[j, i] = factor\n",
        "            U[j, i:] -= factor * U[i, i:]\n",
        "\n",
        "    return L, U\n",
        "\n",
        "def solve_lu(L, U, b):\n",
        "    \"\"\"Solving the system using LU decomposition.\"\"\"\n",
        "    # Straight move for Ly = b\n",
        "    n = L.shape[0]\n",
        "    y = np.zeros(n)\n",
        "    for i in range(n):\n",
        "        y[i] = b[i] - np.dot(L[i, :i], y[:i])\n",
        "\n",
        "    # Reverse move for Ux = y\n",
        "    x = np.zeros(n)\n",
        "    for i in range(n-1, -1, -1):\n",
        "        x[i] = (y[i] - np.dot(U[i, i+1:], x[i+1:])) / U[i, i]\n",
        "\n",
        "    return x\n",
        "\n",
        "# Example of a matrix and right-hand side\n",
        "A = np.array([[10, -1, 2, 0], [-1, 11, -1, 3], [2, -1, 10, -1], [0, 3, -1, 8]], dtype=float)\n",
        "b = np.array([5, 20, -10, 15], dtype=float)\n",
        "\n",
        "# LU-factorization\n",
        "L, U = lu_factorization(A)\n",
        "\n",
        "U[np.abs(U) < 1e-10] = 0\n",
        "print(\"Lower triangular matrix L:\")\n",
        "print(L)\n",
        "print(\"Upper triangular matrix U:\")\n",
        "print(U)\n",
        "\n",
        "# Solution of the system\n",
        "x = solve_lu(L, U, b)\n",
        "print(\"Solution of Ax = b:\")\n",
        "print(x)\n",
        "\n",
        "# Check\n",
        "check = np.dot(A, x)\n",
        "print(\"Check: A * x ≈ b\")\n",
        "print(check)\n",
        "\n",
        "print(\"With built-in function\")\n",
        "sol_1 = np.linalg.solve(A, b)\n",
        "print(sol_1)"
      ],
      "metadata": {
        "colab": {
          "base_uri": "https://localhost:8080/"
        },
        "id": "YmJ6TNtxV9wd",
        "outputId": "155162e9-9cde-4c37-a48e-198e7e0eae0f"
      },
      "execution_count": null,
      "outputs": [
        {
          "output_type": "stream",
          "name": "stdout",
          "text": [
            "Lower triangular matrix L:\n",
            "[[ 1.          0.          0.          0.        ]\n",
            " [-0.1         1.          0.          0.        ]\n",
            " [ 0.2        -0.0733945   1.          0.        ]\n",
            " [ 0.          0.27522936 -0.08173077  1.        ]]\n",
            "Upper triangular matrix U:\n",
            "[[10.         -1.          2.          0.        ]\n",
            " [ 0.         10.9        -0.8         3.        ]\n",
            " [ 0.          0.          9.5412844  -0.77981651]\n",
            " [ 0.          0.          0.          7.11057692]]\n",
            "Solution of Ax = b:\n",
            "[ 0.82758621  1.48275862 -0.89655172  1.20689655]\n",
            "Check: A * x ≈ b\n",
            "[  5.  20. -10.  15.]\n",
            "With built-in function\n",
            "[ 0.82758621  1.48275862 -0.89655172  1.20689655]\n"
          ]
        }
      ]
    },
    {
      "cell_type": "markdown",
      "source": [
        "Task 3: Finding the Largest Eigenvalue and Vector Using Power Method.\n",
        "Problem:\n",
        "1. Implement the power iteration method to find the largest eigenvalue and the corresponding\n",
        "eigenvector.\n",
        "2. Matrix:\n",
        "3. Initial vector v0=[1,0,0].\n",
        "\n",
        "Required:\n",
        "1. Find the largest eigenvalue and vector.\n",
        "2. Compare the result with the numpy.linalg.eig function."
      ],
      "metadata": {
        "id": "377qQR-1Y0-A"
      }
    },
    {
      "cell_type": "code",
      "source": [
        "import numpy as np\n",
        "\n",
        "def power_method(A, v0, tol, max_iter):\n",
        "    v = v0 / np.linalg.norm(v0)  # Normalize the initial vector\n",
        "    for _ in range(max_iter):\n",
        "        w = np.dot(A, v)  # Matrix-vector multiplication\n",
        "        lambda_new = np.dot(w, v)  # Eigenvalue approximation\n",
        "        v_new = w / np.linalg.norm(w)  # Normalize the new vector\n",
        "\n",
        "        # Convergence check\n",
        "        if np.linalg.norm(v_new - v) < tol:\n",
        "            return lambda_new, v_new\n",
        "\n",
        "        v = v_new\n",
        "    return lambda_new, v_new\n",
        "\n",
        "# Example matrix\n",
        "A = np.array([[2, -1, 0], [-1, 2, -1], [0, -1, 2]], dtype=float)\n",
        "v0 = np.array([1, 0, 0], dtype=float)\n",
        "\n",
        "# Finding the eigenvalue and vector\n",
        "lambda_max, eigenvector = power_method(A, v0, tol=1e-6, max_iter=100)\n",
        "print(\"Largest eigenvalue:\", np.round(lambda_max, decimals=6))\n",
        "print(\"The corresponding eigenvector:\", eigenvector)\n",
        "print(\"Answer of built-in function:\")\n",
        "e_values, e_vectors = np.linalg.eig(A)\n",
        "print(e_values)"
      ],
      "metadata": {
        "colab": {
          "base_uri": "https://localhost:8080/"
        },
        "id": "mhldK6tPYcBX",
        "outputId": "929a2936-ec2d-4a0b-8fc8-b0c7bc2f2139"
      },
      "execution_count": null,
      "outputs": [
        {
          "output_type": "stream",
          "name": "stdout",
          "text": [
            "Largest eigenvalue: 3.414214\n",
            "The corresponding eigenvector: [ 0.50000091 -0.70710678  0.49999909]\n",
            "Answer of built-in function:\n",
            "[3.41421356 2.         0.58578644]\n"
          ]
        }
      ]
    },
    {
      "cell_type": "markdown",
      "source": [
        "Task 4: Comparison of Givens and Householder methods.\n",
        "Problem:\n",
        "1. Reduce the following matrix to upper triangular form using:\n",
        "- Givens' method.\n",
        "- Householder's method.\n",
        "\n",
        "Required:\n",
        "1. Derive the Q and R matrices for each method.\n",
        "2. Compare the efficiency and numerical stability of the two methods"
      ],
      "metadata": {
        "id": "NGfCv5NYdFP1"
      }
    },
    {
      "cell_type": "code",
      "source": [
        "def householder_qr(A):\n",
        "    \"\"\"QR decomposition by Householder method.\"\"\"\n",
        "    m, n = A.shape\n",
        "    R = A.copy()\n",
        "    Q = np.eye(m)\n",
        "\n",
        "    for i in range(n):\n",
        "        # Create a Householder vector\n",
        "        x = R[i:, i]\n",
        "        e = np.zeros_like(x)\n",
        "        e[0] = np.linalg.norm(x)\n",
        "        v = x - e\n",
        "        v = v / np.linalg.norm(v)\n",
        "\n",
        "        # Householder Matrix\n",
        "        H = np.eye(m)\n",
        "        H[i:, i:] -= 2.0 * np.outer(v, v)\n",
        "\n",
        "        # Transformation of R and accumulation of Q\n",
        "        R = H @ R\n",
        "        Q = Q @ H.T\n",
        "\n",
        "    return Q, R\n",
        "\n",
        "def givens_rotation(A):\n",
        "    \"\"\"QR decomposition by Givens method.\"\"\"\n",
        "    m, n = A.shape\n",
        "    Q = np.eye(m)  # Orthogonal matrix\n",
        "    R = A.copy()\n",
        "\n",
        "    for i in range(n):\n",
        "        for j in range(i+1, m):\n",
        "            if R[j, i] != 0:\n",
        "                r = np.hypot(R[i, i], R[j, i])\n",
        "                cos = R[i, i] / r\n",
        "                sin = -R[j, i] / r\n",
        "\n",
        "                G = np.eye(m)  # Givens rotation matrix\n",
        "                G[i, i] = cos\n",
        "                G[j, j] = cos\n",
        "                G[i, j] = -sin\n",
        "                G[j, i] = sin\n",
        "\n",
        "                R = G @ R  # Transform R\n",
        "                Q = Q @ G.T  # Accumulation of Q\n",
        "\n",
        "    return Q, R\n",
        "\n",
        "# Example\n",
        "A = np.array([[4, 1, 2, 0], [1, 3, 1, 2], [2, 1, 5, 1], [0, 2, 1, 4]], dtype=float)\n",
        "\n",
        "# QR decomposition\n",
        "Q1, R1 = givens_rotation(A)\n",
        "Q2, R2 = householder_qr(A)\n",
        "Q1 = np.round(Q1, 2)\n",
        "R1 = np.round(R1, 2)\n",
        "Q2 = np.round(Q2, 2)\n",
        "R2 = np.round(R2, 2)\n",
        "\n",
        "print(\"Givens Method:\")\n",
        "print(\"Q:\")\n",
        "print(Q1)\n",
        "print(\"R:\")\n",
        "print(R1)\n",
        "\n",
        "print(\"\\nHouseholder Method:\")\n",
        "print(\"Matrix Q:\")\n",
        "print(Q2)\n",
        "print(\"Matrix R:\")\n",
        "print(R2)\n",
        "\n",
        "# Check\n",
        "print(\"Check: A ≈ QR\")\n",
        "print(np.round(Q1 @ R1, 2))\n",
        "print()\n",
        "print(np.round(Q2 @ R2))\n",
        "\n"
      ],
      "metadata": {
        "colab": {
          "base_uri": "https://localhost:8080/"
        },
        "id": "zSXCc-iDZWQq",
        "outputId": "b8fbed71-aa8e-49f9-cb14-563116e558fc"
      },
      "execution_count": null,
      "outputs": [
        {
          "output_type": "stream",
          "name": "stdout",
          "text": [
            "Givens Method:\n",
            "Q:\n",
            "[[ 0.87 -0.21 -0.39  0.2 ]\n",
            " [ 0.22  0.77 -0.23 -0.56]\n",
            " [ 0.44  0.04  0.89 -0.13]\n",
            " [ 0.    0.6   0.09  0.8 ]]\n",
            "R:\n",
            "[[ 4.58  1.96  4.15  0.87]\n",
            " [ 0.    3.34  1.16  3.98]\n",
            " [ 0.    0.    3.53  0.79]\n",
            " [ 0.   -0.    0.    1.94]]\n",
            "\n",
            "Householder Method:\n",
            "Matrix Q:\n",
            "[[ 0.87 -0.21 -0.39  0.2 ]\n",
            " [ 0.22  0.77 -0.23 -0.56]\n",
            " [ 0.44  0.04  0.89 -0.13]\n",
            " [ 0.    0.6   0.09  0.8 ]]\n",
            "Matrix R:\n",
            "[[ 4.58  1.96  4.15  0.87]\n",
            " [ 0.    3.34  1.16  3.98]\n",
            " [ 0.   -0.    3.53  0.79]\n",
            " [-0.   -0.    0.    1.94]]\n",
            "Check: A ≈ QR\n",
            "[[3.98 1.   1.99 0.  ]\n",
            " [1.01 3.   0.99 1.99]\n",
            " [2.02 1.   5.01 0.99]\n",
            " [0.   2.   1.01 4.01]]\n",
            "\n",
            "[[4. 1. 2. 0.]\n",
            " [1. 3. 1. 2.]\n",
            " [2. 1. 5. 1.]\n",
            " [0. 2. 1. 4.]]\n"
          ]
        }
      ]
    },
    {
      "cell_type": "markdown",
      "source": [
        "The Givens method is numerically stable and efficient for symmetric or well-conditioned dense matrices due to fewer computational steps and better orthogonality preservation. In contrast, the Householder method is more stable and efficient for sparse or ill-conditioned matrices, offering improved numerical precision and reduced sensitivity to rounding errors, although it incurs higher computational costs for dense systems."
      ],
      "metadata": {
        "id": "rUcVMwALmUvM"
      }
    },
    {
      "cell_type": "markdown",
      "source": [
        "Task 5: Finding all eigenvalues using Jacobi's method.\n",
        "Problem:\n",
        "1. Using Jacobi's method, find all eigenvalues for the following matrix: Set the accuracy to 10\n",
        "−6\n",
        ".\n",
        "\n",
        "Required:\n",
        "1. Print the eigenvalues.\n",
        "2. Compare the result with the numpy.linalg.eigvals function"
      ],
      "metadata": {
        "id": "7qTsmxNufYUH"
      }
    },
    {
      "cell_type": "code",
      "source": [
        "def jacobi_eigenvalues(A, tol, max_iter):\n",
        "    \"\"\"Jacobi's method for finding all eigenvalues.\"\"\"\n",
        "    n = A.shape[0]\n",
        "    V = np.eye(n)\n",
        "    for _ in range(max_iter):\n",
        "        # Find the maximum off-diagonal element\n",
        "        max_val = 0\n",
        "        for i in range(n):\n",
        "            for j in range(i+1, n):\n",
        "                if abs(A[i, j]) > abs(max_val):\n",
        "                    max_val = A[i, j]\n",
        "                    p, q = i, j\n",
        "\n",
        "        if abs(max_val) < tol:\n",
        "            break\n",
        "\n",
        "        # Calculating rotation parameters\n",
        "        theta = 0.5 * np.arctan(2 * A[p, q] / (A[p, p] - A[q, q]))\n",
        "        cos = np.cos(theta)\n",
        "        sin = np.sin(theta)\n",
        "\n",
        "        # We apply the Jacobi transformation\n",
        "        R = np.eye(n)\n",
        "        R[p, p] = R[q, q] = cos\n",
        "        R[p, q] = sin\n",
        "        R[q, p] = -sin\n",
        "        A = R.T @ A @ R\n",
        "        V = V @ R\n",
        "\n",
        "    eigenvalues = np.diag(A)\n",
        "    return eigenvalues\n",
        "\n",
        "# Example of a symmetric matrix\n",
        "A = np.array([[1, 1, 0.5], [1, 1, 0.25], [0.5, 0.25, 2]], dtype=float)\n",
        "\n",
        "# Finding eigenvalues ​​and eigenvectors\n",
        "eigenvalues1 = jacobi_eigenvalues(A, tol=1e-6, max_iter=100)\n",
        "eigenvalues2 = np.linalg.eigvals(A)\n",
        "print(\"Eigenvalues:\")\n",
        "print(eigenvalues1)\n",
        "print(\"Eigenvalues with built-in function\")\n",
        "print(eigenvalues2[::-1])"
      ],
      "metadata": {
        "colab": {
          "base_uri": "https://localhost:8080/"
        },
        "id": "JAvualwwdxNc",
        "outputId": "ee2ab417-d978-4a8b-81ea-b6c714bed1e5"
      },
      "execution_count": null,
      "outputs": [
        {
          "output_type": "stream",
          "name": "stdout",
          "text": [
            "Eigenvalues:\n",
            "[ 1.47970688  2.53642885 -0.01613572]\n",
            "Eigenvalues with built-in function\n",
            "[ 1.48012142  2.53652586 -0.01664728]\n"
          ]
        },
        {
          "output_type": "stream",
          "name": "stderr",
          "text": [
            "<ipython-input-62-22d6a52fd17e>:19: RuntimeWarning: divide by zero encountered in scalar divide\n",
            "  theta = 0.5 * np.arctan(2 * A[p, q] / (A[p, p] - A[q, q]))\n"
          ]
        }
      ]
    },
    {
      "cell_type": "code",
      "source": [],
      "metadata": {
        "id": "3JKlLBczgama"
      },
      "execution_count": null,
      "outputs": []
    }
  ]
}